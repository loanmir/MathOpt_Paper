{
 "cells": [
  {
   "cell_type": "code",
   "execution_count": 9,
   "id": "429929dc",
   "metadata": {},
   "outputs": [
    {
     "name": "stdout",
     "output_type": "stream",
     "text": [
      "['Depot1', 'Depot2']\n"
     ]
    }
   ],
   "source": [
    "import networkx as nx\n",
    "from gurobipy import Model, GRB\n",
    "\n",
    "# ================================\n",
    "# 1. CREAZIONE GRAFO\n",
    "# ================================\n",
    "G = nx.DiGraph()\n",
    "G.add_node(\"Depot1\", type=\"depot\", charging_possible=True)\n",
    "G.add_node(\"Depot2\", type=\"depot\", charging_possible=True)\n",
    "G.add_node(\"Stop1\", type=\"stop\", charging_possible=True)\n",
    "G.add_node(\"Stop2\", type=\"stop\", charging_possible=False)\n",
    "G.add_node(\"Stop3\", type=\"stop\", charging_possible=True)\n",
    "G.add_node(\"Stop4\", type=\"stop\", charging_possible=False)\n",
    "G.add_node(\"Stop5\", type=\"stop\", charging_possible=True)\n",
    "\n",
    "\n",
    "\n",
    "G.add_edge(\"Depot1\", \"Stop1\", distance=3)\n",
    "G.add_edge(\"Stop1\", \"Stop2\", distance=4)\n",
    "G.add_edge(\"Stop2\", \"Stop3\", distance=2)\n",
    "G.add_edge(\"Stop3\", \"Stop5\", distance=5)\n",
    "G.add_edge(\"Stop5\", \"Depot2\", distance=4)\n",
    "G.add_edge(\"Depot1\", \"Stop4\", distance=6)\n",
    "G.add_edge(\"Stop4\", \"Stop5\", distance=7)\n",
    "G.add_edge(\"Depot2\", \"Stop3\", distance=3)\n",
    "\n",
    "D = [n for n, attr in G.nodes(data=True) if attr.get('type') == 'depot']\n",
    "\n",
    "print(D)"
   ]
  }
 ],
 "metadata": {
  "kernelspec": {
   "display_name": "Python 3",
   "language": "python",
   "name": "python3"
  },
  "language_info": {
   "codemirror_mode": {
    "name": "ipython",
    "version": 3
   },
   "file_extension": ".py",
   "mimetype": "text/x-python",
   "name": "python",
   "nbconvert_exporter": "python",
   "pygments_lexer": "ipython3",
   "version": "3.12.2"
  }
 },
 "nbformat": 4,
 "nbformat_minor": 5
}
