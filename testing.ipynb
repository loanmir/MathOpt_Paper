{
 "cells": [
  {
   "cell_type": "code",
   "execution_count": 10,
   "id": "429929dc",
   "metadata": {},
   "outputs": [
    {
     "name": "stdout",
     "output_type": "stream",
     "text": [
      "['Depot1', 'Depot2', 'Stop1', 'Stop2', 'Stop3', 'Stop4', 'Stop5']\n"
     ]
    }
   ],
   "source": [
    "import networkx as nx\n",
    "from gurobipy import Model, GRB\n",
    "\n",
    "# ================================\n",
    "# 1. CREAZIONE GRAFO\n",
    "# ================================\n",
    "G = nx.DiGraph()\n",
    "G.add_node(\"Depot1\", type=\"depot\", charging_possible=True)\n",
    "G.add_node(\"Depot2\", type=\"depot\", charging_possible=True)\n",
    "G.add_node(\"Stop1\", type=\"stop\", charging_possible=True)\n",
    "G.add_node(\"Stop2\", type=\"stop\", charging_possible=False)\n",
    "G.add_node(\"Stop3\", type=\"stop\", charging_possible=True)\n",
    "G.add_node(\"Stop4\", type=\"stop\", charging_possible=False)\n",
    "G.add_node(\"Stop5\", type=\"stop\", charging_possible=True)\n",
    "\n",
    "\n",
    "\n",
    "G.add_edge(\"Depot1\", \"Stop1\", distance=3)\n",
    "G.add_edge(\"Stop1\", \"Stop2\", distance=4)\n",
    "G.add_edge(\"Stop2\", \"Stop3\", distance=2)\n",
    "G.add_edge(\"Stop3\", \"Stop5\", distance=5)\n",
    "G.add_edge(\"Stop5\", \"Depot2\", distance=4)\n",
    "G.add_edge(\"Depot1\", \"Stop4\", distance=6)\n",
    "G.add_edge(\"Stop4\", \"Stop5\", distance=7)\n",
    "G.add_edge(\"Depot2\", \"Stop3\", distance=3)\n",
    "\n",
    "C = [\"c1\"]  # set of c-type plugs devices\n",
    "N = list(G.nodes) # feasible charging stop set\n",
    "D = [n for n, attr in G.nodes(data=True) if attr.get('type') == 'depot']\n",
    "\n",
    "print(N)"
   ]
  },
  {
   "cell_type": "code",
   "execution_count": 1,
   "id": "46c17ae5",
   "metadata": {},
   "outputs": [
    {
     "name": "stdout",
     "output_type": "stream",
     "text": [
      "{('r1', 'E433'): 4, ('r1', 'E420'): 7, ('r1', 'E302'): 4, ('r2', 'E433'): 2, ('r3', 'E420'): 7, ('r3', 'E302'): 4, ('r4', 'E433'): 2, ('r4', 'E420'): 3}\n"
     ]
    }
   ],
   "source": [
    "import gurobipy as gb\n",
    "import math\n",
    "\n",
    "nv_rb_0 = {\n",
    "    \"r1\" : {\"M103\": 3, \"M104\": 2},\n",
    "    \"r2\" : {\"M103\": 2, \"M104\": 0},\n",
    "    \"r3\" : {\"M103\": 1, \"M104\": 2},\n",
    "    \"r4\" : {\"M103\": 1, \"M104\": 1},\n",
    "}  # number of b-type *non-battery* buses on route r\n",
    "\n",
    "nob_rb = {\n",
    "    \"r1\": {\"E433\": 0},\n",
    "    \"r2\": {\"E433\": 1},\n",
    "    \"r3\": {\"E433\": 2},\n",
    "    \"r4\": {\"E433\": 2},\n",
    "}  # number of *old b-type electric* buses on route r\n",
    "\n",
    "\n",
    "V = [\"M103\", \"M104\"] # non battery vehicle type set\n",
    "R = [\"r1\",\"r2\",\"r3\",\"r4\"] # route set\n",
    "B = [\"E433\", \"E420\", \"E302\"] #[E433, E420, E321, E490, 321D, 420D] # electric bus-type\n",
    "\n",
    "B_r = {\n",
    "    \"r1\": [\"E433\", \"E420\", \"E302\"],\n",
    "    \"r2\": [\"E433\"],         \n",
    "    \"r3\": [\"E420\", \"E302\"],\n",
    "    \"r4\": [\"E433\", \"E420\"],\n",
    "} # electric bus type set of route r\n",
    "\n",
    "capacities = [153, 87, 175, 130, 80] #starting from electric and then non battery vehicles\n",
    "\n",
    "cap_b = {node: cap for node, cap in zip(B + V, capacities)}\n",
    "\n",
    "dem_r = {}  # passenger demand of route r = past passenger capacity of all route r vehicles\n",
    "            \n",
    "# Calculate the passenger demand for each route\n",
    "for r in set(nv_rb_0.keys()).union(nob_rb.keys()):\n",
    "    dem = 0\n",
    "    # Add capacities from non-battery buses\n",
    "    for b, n in nv_rb_0.get(r, {}).items():\n",
    "        dem += cap_b.get(b, 0) * n\n",
    "\n",
    "    # Add capacities from old electric buses\n",
    "    for b, n in nob_rb.get(r, {}).items():\n",
    "        dem += cap_b.get(b, 0) * n\n",
    "\n",
    "    dem_r[r] = dem\n",
    "\n",
    "dem_0_r = {} # passenger capacity of route r to be satisfied by new electric buses and remaining non-battery vehicles\n",
    "for r in R:\n",
    "    dem_0_r[r] = dem_r[r] - sum(nob_rb[r].get(b, 0) * cap_b[b] for b in B_r[r])  ## calculating dem_0_r!\n",
    "    # .get used because if we don't find a \"bus\" we just have 0 and not a crash (like with nob_rb[r][b])\n",
    "    # no need of quicksum becuse we have only inputs and no variables\n",
    "\n",
    "ub_rb = {\n",
    "    # (1, 'busA'): 3,\n",
    "} # upper bound on the number of new b-type electric buses\n",
    "for r in R:\n",
    "    for b in B_r[r]: # assuming B_r[r] gives buses relevant to route r            ## calculating ub_rb\n",
    "        numerator = dem_0_r[r]\n",
    "        denominator = cap_b[b]\n",
    "        ub_rb[r, b] = math.ceil(numerator/denominator)\n",
    "\n",
    "print(ub_rb)"
   ]
  },
  {
   "cell_type": "code",
   "execution_count": 43,
   "id": "0e7ca63e",
   "metadata": {},
   "outputs": [
    {
     "ename": "IndexError",
     "evalue": "only integers, slices (`:`), ellipsis (`...`), numpy.newaxis (`None`) and integer or boolean arrays are valid indices",
     "output_type": "error",
     "traceback": [
      "\u001b[31m---------------------------------------------------------------------------\u001b[39m",
      "\u001b[31mIndexError\u001b[39m                                Traceback (most recent call last)",
      "\u001b[36mCell\u001b[39m\u001b[36m \u001b[39m\u001b[32mIn[43]\u001b[39m\u001b[32m, line 16\u001b[39m\n\u001b[32m      8\u001b[39m n_rbc_data_2d = np.array([\n\u001b[32m      9\u001b[39m     [\u001b[32m1\u001b[39m, \u001b[32m1\u001b[39m, \u001b[32m1\u001b[39m, \u001b[32m1\u001b[39m],  \u001b[38;5;66;03m# E433\u001b[39;00m\n\u001b[32m     10\u001b[39m     [\u001b[32m2\u001b[39m, \u001b[32m1\u001b[39m, \u001b[32m1\u001b[39m, \u001b[32m2\u001b[39m],  \u001b[38;5;66;03m# E420\u001b[39;00m\n\u001b[32m     11\u001b[39m     [\u001b[32m2\u001b[39m, \u001b[32m2\u001b[39m, \u001b[32m2\u001b[39m, \u001b[32m2\u001b[39m],  \u001b[38;5;66;03m# E302\u001b[39;00m\n\u001b[32m     12\u001b[39m ])\n\u001b[32m     14\u001b[39m n_rbc_data = n_rbc_data_2d[:, :, np.newaxis] \u001b[38;5;66;03m#just this case since we need also a c dimensione even if it is just 1\u001b[39;00m\n\u001b[32m---> \u001b[39m\u001b[32m16\u001b[39m n_rbc = \u001b[43mdi\u001b[49m\u001b[43m.\u001b[49m\u001b[43minit_n_rbc\u001b[49m\u001b[43m(\u001b[49m\u001b[43mn_rbc_data\u001b[49m\u001b[43m,\u001b[49m\u001b[43m \u001b[49m\u001b[43mR\u001b[49m\u001b[43m,\u001b[49m\u001b[43m \u001b[49m\u001b[43mB\u001b[49m\u001b[43m,\u001b[49m\u001b[43m \u001b[49m\u001b[43mC\u001b[49m\u001b[43m)\u001b[49m \u001b[38;5;66;03m# Initialize n_rbc with data from data_inizialization module\u001b[39;00m\n",
      "\u001b[36mFile \u001b[39m\u001b[32mc:\\Users\\franc\\OneDrive\\Desktop\\Magistrale\\Matematical Optimisation\\Project\\MathOpt_Paper\\data_inizialization.py:17\u001b[39m, in \u001b[36minit_n_rbc\u001b[39m\u001b[34m(n_rbc_data, r_set, b_set, c_set)\u001b[39m\n\u001b[32m     15\u001b[39m     \u001b[38;5;28;01mfor\u001b[39;00m b \u001b[38;5;129;01min\u001b[39;00m b_set:\n\u001b[32m     16\u001b[39m         \u001b[38;5;28;01mfor\u001b[39;00m c \u001b[38;5;129;01min\u001b[39;00m c_set:\n\u001b[32m---> \u001b[39m\u001b[32m17\u001b[39m             n_rbc[(r, b, c)] = \u001b[43mn_rbc_data\u001b[49m\u001b[43m[\u001b[49m\u001b[43mr\u001b[49m\u001b[43m,\u001b[49m\u001b[43m \u001b[49m\u001b[43mb\u001b[49m\u001b[43m,\u001b[49m\u001b[43m \u001b[49m\u001b[43mc\u001b[49m\u001b[43m]\u001b[49m\n\u001b[32m     19\u001b[39m \u001b[38;5;28;01mreturn\u001b[39;00m n_rbc\n",
      "\u001b[31mIndexError\u001b[39m: only integers, slices (`:`), ellipsis (`...`), numpy.newaxis (`None`) and integer or boolean arrays are valid indices"
     ]
    }
   ],
   "source": [
    "import data_inizialization as di\n",
    "import numpy as np\n",
    "\n",
    "R = [\"r1\",\"r2\",\"r3\",\"r4\"] # route set\n",
    "B = [\"E433\", \"E420\", \"E302\"] #[E433, E420, E321, E490, 321D, 420D] # electric bus-type\n",
    "C = [\"c1\"] # charging type set   # In the base case |C| = 1 -> c = 1 -> we just have one charging type -> In the random cases, so modified base cases -> we several c types\n",
    "\n",
    "n_rbc_data_2d = np.array([\n",
    "    [1, 1, 1, 1],  # E433\n",
    "    [2, 1, 1, 2],  # E420\n",
    "    [2, 2, 2, 2],  # E302\n",
    "])\n",
    "\n",
    "n_rbc_data = n_rbc_data_2d[:, :, np.newaxis] #just this case since we need also a c dimensione even if it is just 1\n",
    "\n",
    "n_rbc = di.init_n_rbc(n_rbc_data, R, B, C) # Initialize n_rbc with data from data_inizialization module"
   ]
  },
  {
   "cell_type": "code",
   "execution_count": null,
   "id": "bedfa1b0",
   "metadata": {},
   "outputs": [
    {
     "name": "stdout",
     "output_type": "stream",
     "text": [
      "{('r1', 'E433', 'c1'): 1, ('r1', 'E420', 'c1'): 2, ('r1', 'E302', 'c1'): 2, ('r2', 'E433', 'c1'): 1, ('r2', 'E420', 'c1'): 1, ('r2', 'E302', 'c1'): 2, ('r3', 'E433', 'c1'): 1, ('r3', 'E420', 'c1'): 0, ('r3', 'E302', 'c1'): 2, ('r4', 'E433', 'c1'): 1, ('r4', 'E420', 'c1'): 2, ('r4', 'E302', 'c1'): 2}\n"
     ]
    }
   ],
   "source": [
    "import data_inizialization as di\n",
    "import numpy as np\n",
    "import importlib\n",
    "\n",
    "importlib.reload(di)\n",
    "\n",
    "R = [\"r1\",\"r2\",\"r3\",\"r4\"] # route set\n",
    "B = [\"E433\", \"E420\", \"E302\"] #[E433, E420, E321, E490, 321D, 420D] # electric bus-type\n",
    "C = [\"c1\"] # charging type set   # In the base case |C| = 1 -> c = 1 -> we just have one charging type -> In the random cases, so modified base cases -> we several c types\n",
    "\n",
    "n_rbc_data_2d = np.array([\n",
    "    [1, 1, 1, 1],  # E433\n",
    "    [2, 1, 0, 2],  # E420\n",
    "    [2, 2, 2, 2],  # E302\n",
    "])\n",
    "\n",
    "n_rbc_data = n_rbc_data_2d[:, :, np.newaxis].transpose(1, 0, 2) #just this case since we need also a c dimensione even if it is just 1\n",
    "\n",
    "n_rbc = di.init_n_rbc(n_rbc_data, R, B, C) # Initialize n_rbc with data from data_inizialization module\n",
    "\n",
    "print(n_rbc)"
   ]
  },
  {
   "cell_type": "code",
   "execution_count": null,
   "id": "c5eeef89",
   "metadata": {},
   "outputs": [
    {
     "name": "stdout",
     "output_type": "stream",
     "text": [
      "0\n",
      "1\n",
      "2\n",
      "3\n"
     ]
    }
   ],
   "source": [
    "R = [\"r1\",\"r2\",\"r3\",\"r4\"] # route set\n",
    "B_r = {\n",
    "    \"r1\": [\"E433\", \"E420\", \"E302\"],\n",
    "    \"r2\": [\"E433\"],         \n",
    "    \"r3\": [\"E420\", \"E302\"],\n",
    "    \"r4\": [\"E433\", \"E420\"],\n",
    "} # electric bus type set of route r\n",
    "\n",
    "for r in R:\n",
    "    for b in range(len(B_r[r])):\n",
    "        print()\n",
    "\n",
    "\n"
   ]
  }
 ],
 "metadata": {
  "kernelspec": {
   "display_name": "Python 3",
   "language": "python",
   "name": "python3"
  },
  "language_info": {
   "codemirror_mode": {
    "name": "ipython",
    "version": 3
   },
   "file_extension": ".py",
   "mimetype": "text/x-python",
   "name": "python",
   "nbconvert_exporter": "python",
   "pygments_lexer": "ipython3",
   "version": "3.12.2"
  }
 },
 "nbformat": 4,
 "nbformat_minor": 5
}
